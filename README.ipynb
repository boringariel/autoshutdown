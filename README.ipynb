{
 "cells": [
  {
   "cell_type": "markdown",
   "metadata": {},
   "source": [
    "## AutoShutdown v1.0\n",
    "---\n",
    "\n",
    "* 제작자: 강지완 (a.k.a. boringariel)\n",
    "* 이 프로그램은 [General Public License](https://github.com/boringariel/autoshutdown/blob/master/LICENSE)를 따릅니다 [(소스코드 보기)](https://github.com/boringariel/autoshutdown/blob/master/Autoshutdown.ipynb)\n",
    "\n",
    "컴퓨터 자동 종료 커맨드를 자동으로 입력해 주는 GUI 프로그램입니다.\n",
    "컴퓨터 자동 종료 예약, 재부팅 예약 및 예약 취소 기능을 지원합니다.\n",
    "\n",
    "---\n",
    "### **사용방법**\n",
    "버전에 따라 UI 또는 글자가 일부 다를 수 있습니다.<br><br>\n",
    "\n",
    "![img1](img/1.png)</br>\n",
    "\n",
    "* '타이머' 항목에서 초 단위의 시간을 적은 뒤, '설정' 버튼을 눌러줍니다.\n",
    "* '옵션' 항목에서 종료 또는 재시작 옵션을 선택해 줍니다.<br><br>\n",
    "\n",
    "![img1](img/3.png)</br>\n",
    "* 설정이 변경되거나 '예약' 버튼을 누르면 설정 또는 예약 상황을 하단에서 알려줍니다.\n",
    "* 종료 예약을 한 경우, 프로그램을 종료해도 종료 예약은 유지됩니다.<br><br>\n",
    "\n",
    "![img1](img/4.png)</br>\n",
    "* '예약 취소' 버튼을 누르면 예약이 취소되었음을 알려줌과 동시에 종료 예약이 취소됩니다.<br><br>\n",
    "\n",
    "---\n",
    "### version history\n",
    "* **v0.9**\n",
    "\n",
    "테스트용 프로그램 제작\n",
    "\n",
    "* **v1.0**\n",
    "\n",
    "배포용 프로그램 제작"
   ]
  },
  {
   "cell_type": "code",
   "execution_count": null,
   "metadata": {},
   "outputs": [],
   "source": []
  }
 ],
 "metadata": {
  "kernelspec": {
   "display_name": "Python 3",
   "language": "python",
   "name": "python3"
  },
  "language_info": {
   "codemirror_mode": {
    "name": "ipython",
    "version": 3
   },
   "file_extension": ".py",
   "mimetype": "text/x-python",
   "name": "python",
   "nbconvert_exporter": "python",
   "pygments_lexer": "ipython3",
   "version": "3.7.1"
  }
 },
 "nbformat": 4,
 "nbformat_minor": 2
}
